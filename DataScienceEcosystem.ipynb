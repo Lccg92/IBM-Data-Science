{
 "cells": [
  {
   "cell_type": "markdown",
   "id": "17fcdadc-7ace-433e-a28a-5defe52f9575",
   "metadata": {},
   "source": [
    "# Data Science Tools and Ecosystem"
   ]
  },
  {
   "cell_type": "markdown",
   "id": "437e6c42-c80e-41a3-aad9-a5481ef7d731",
   "metadata": {},
   "source": [
    "In this notebook, the tools and ecosystems of data science learned during the course are summarized."
   ]
  },
  {
   "cell_type": "markdown",
   "id": "c8a173b4-4099-4805-ad08-567b6529ea36",
   "metadata": {},
   "source": [
    "Some of the popular languages used by data scientists are: \n",
    "Python\n",
    "R\n",
    "SQL\n",
    "Scala"
   ]
  },
  {
   "cell_type": "markdown",
   "id": "60b44bd7-5857-47ec-ae78-2240de7bb202",
   "metadata": {},
   "source": [
    "**Objectives:**\r\n",
    "\r\n",
    "- List popular languages for Data Science  \r\n",
    "- Introduce commonly used libraries in Data Science  \r\n",
    "- Provide examples of arithmetic expression evaluation in Python  \r\n",
    "- Demonstrate how to create tables using Markdown  \r\n"
   ]
  },
  {
   "cell_type": "markdown",
   "id": "4cf6784b-1eef-4921-82e4-e40b825d2365",
   "metadata": {},
   "source": [
    "Some of the libraries commonly used by data scientists include: \n",
    "NumPy\n",
    "Pandas\n",
    "Matplotlib\n",
    "Seaborn\n",
    "Scikit-learn\n",
    "TensorFlow\n",
    "PyTorch"
   ]
  },
  {
   "cell_type": "markdown",
   "id": "e923f546-e770-4b94-8987-4d9c19f5e500",
   "metadata": {},
   "source": [
    "| Data Science Tools                   |\r\n",
    "|--------------------------------------|\r\n",
    "| Jupyter Notebook                     |\r\n",
    "| RStudio                              |\r\n",
    "| Apache Zeppelin                      |\r\n",
    "   |\r\n"
   ]
  },
  {
   "cell_type": "markdown",
   "id": "2ae759e2-c332-424e-b15b-0d221622b7f2",
   "metadata": {},
   "source": [
    "Below are some examples of evaluating arithmetic expressions in Python\n",
    "\n",
    "# Addition\r\n",
    "3 + 5  # Result: 8\r\n",
    "\r\n",
    "# Subtraction\r\n",
    "10 - 4  # Result: 6\r\n",
    "\r\n",
    "# Multiplication\r\n",
    "7 * 6  # Result: 42\r\n",
    "\r\n",
    "# Division\r\n",
    "20 / 4  # Result: 5.0\r\n",
    "\r\n",
    "# Exponentiation\r\n",
    "2 ** 3  # Result: 8\r\n",
    "\r\n",
    "# Modulus (remainder of the division)\r\n",
    "10 % 3  # Result: 1\r\n",
    "\r\n",
    "# Floor division (quotient without remainder)\r\n",
    "15 // 4  # Result: 3\r\n"
   ]
  },
  {
   "cell_type": "code",
   "execution_count": 1,
   "id": "a6ef5957-e365-4c6c-97c1-2eade39b2fd3",
   "metadata": {},
   "outputs": [
    {
     "data": {
      "text/plain": [
       "17"
      ]
     },
     "execution_count": 1,
     "metadata": {},
     "output_type": "execute_result"
    }
   ],
   "source": [
    "(3*4)+5"
   ]
  },
  {
   "cell_type": "code",
   "execution_count": 3,
   "id": "a97ba009-a3e7-4bc3-af32-270cabe67059",
   "metadata": {},
   "outputs": [
    {
     "data": {
      "text/plain": [
       "3.3333333333333335"
      ]
     },
     "execution_count": 3,
     "metadata": {},
     "output_type": "execute_result"
    }
   ],
   "source": [
    "#For this exercise, the conversion of 200 minutes to hours will be performed by dividing by 60.\n",
    "200/60"
   ]
  },
  {
   "cell_type": "code",
   "execution_count": null,
   "id": "1e27dc09-56fb-4dd3-9594-c7bd460935ac",
   "metadata": {},
   "outputs": [],
   "source": [
    "## Luis Carlos Castañeda González"
   ]
  }
 ],
 "metadata": {
  "kernelspec": {
   "display_name": "Python 3 (ipykernel)",
   "language": "python",
   "name": "python3"
  },
  "language_info": {
   "codemirror_mode": {
    "name": "ipython",
    "version": 3
   },
   "file_extension": ".py",
   "mimetype": "text/x-python",
   "name": "python",
   "nbconvert_exporter": "python",
   "pygments_lexer": "ipython3",
   "version": "3.11.5"
  }
 },
 "nbformat": 4,
 "nbformat_minor": 5
}
